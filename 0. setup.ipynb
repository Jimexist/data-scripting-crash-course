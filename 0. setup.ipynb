{
 "cells": [
  {
   "cell_type": "markdown",
   "metadata": {},
   "source": [
    "# Setup\n",
    "\n",
    "To setup dev environment, for using this crash course and also for doing real world work, you need to:\n",
    "\n",
    "- install [`pyenv`](https://github.com/yyuu/pyenv) which manages Python environments for you. you can also use [anaconda](https://www.continuum.io/downloads), etc. -- YMMV.\n",
    "- install [`pyenv-virtualenv`](https://github.com/yyuu/pyenv-virtualenv) which setups `virtualenv` for your projects and have them isolated from one another.\n",
    "- remember to add the initing commands of `pyenv` in your shell profile, e.g. `~/.zshrc` or `~/.bash_profile`\n",
    "- use `pyenv` to install a Python version: the current suggestions are `2.7.11` and `3.5.1` - I personally recommend Python 3 because it is mature enough and also the future - but some libraries do not work in py3 - so a better way is to install both and have them managed by `pyenv`. this course will is written in py3.\n",
    "- use `pip` to install `jupyter` and `notebook`\n",
    "\n",
    "Once you have everything setup, you can start the notebook using:\n",
    "```sh\n",
    "jupyter notebook\n",
    "```\n",
    "and your browser will be open, the notebook server will serve the content in its current directory, i.e. you can navigate to a directory where you want to view from `notebook` and use that command more easily."
   ]
  },
  {
   "cell_type": "markdown",
   "metadata": {},
   "source": [
    "## a word about environments and pip\n",
    "\n",
    "It is a very good habit to have your dev and app environment explicitly kept, version controlled, and re-producible. The commands that come handy are: `pip freeze > requirements.txt` and `pip install -r requirements.txt`. Whenever possible, setup git version control for your python project, use `pip freeze` to capture dependency list, so that others can quickly reproduce the deps by using the `requirements.txt` file.\n",
    "\n",
    "*N.B. this idea is not python specific, think about the `package.json` for node and `pom.xml` for Java*"
   ]
  },
  {
   "cell_type": "markdown",
   "metadata": {},
   "source": [
    "## setting up a SQL database\n",
    "\n",
    "Assuming you are on Mac, you can use `brew install sqlite3` to install [SQLite](https://www.sqlite.org/). It is a very simple tool that can give you SQL interface while not requiring you to setup a server and handle with databases, users, admins, etc. You can use SQLite in memory mode, or in most cases open up a database file for storing data for a database - in which you can create `table`s, `view`s, `primary key`s, `foreign key`s, etc. Or if you are crazy enough you can have it setup as [HA a distributed system using Raft](https://github.com/rqlite/rqlite).\n",
    "\n",
    "Once you have it installed, you can start it:\n",
    "```sh\n",
    "sqlite3\n",
    "```\n",
    "in **in memory mode** or in most cases start it with a file path:\n",
    "```sh\n",
    "sqlite3 ~/path/to/my/work/dir/database_file.db\n",
    "```\n",
    "so that your data will be read from, and saved back to the database file."
   ]
  }
 ],
 "metadata": {
  "kernelspec": {
   "display_name": "Python 3",
   "language": "python",
   "name": "python3"
  },
  "language_info": {
   "codemirror_mode": {
    "name": "ipython",
    "version": 3
   },
   "file_extension": ".py",
   "mimetype": "text/x-python",
   "name": "python",
   "nbconvert_exporter": "python",
   "pygments_lexer": "ipython3",
   "version": "3.5.1"
  }
 },
 "nbformat": 4,
 "nbformat_minor": 0
}
