{
 "cells": [
  {
   "cell_type": "markdown",
   "metadata": {},
   "source": [
    "# Setup\n",
    "\n",
    "To setup dev environment, for using this crash course and also for doing real world work, you need to:\n",
    "\n",
    "- install [`pyenv`](https://github.com/yyuu/pyenv) which manages Python environments for you. you can also use [anaconda](https://www.continuum.io/downloads), etc. -- YMMV.\n",
    "- install [`pyenv-virtualenv`](https://github.com/yyuu/pyenv-virtualenv) which setups `virtualenv` for your projects and have them isolated from one another.\n",
    "- remember to add the initing commands of `pyenv` in your shell profile, e.g. `~/.zshrc` or `~/.bash_profile`\n",
    "- use `pyenv` to install a Python version: the current suggestions are `2.7.11` and `3.5.1` - I personally recommend Python 3 because it is mature enough and also the future - but some libraries do not work in py3 - so a better way is to install both and have them managed by `pyenv`. this course will is written in py3.\n",
    "- use `pip` to install `jupyter` and `notebook`"
   ]
  },
  {
   "cell_type": "markdown",
   "metadata": {},
   "source": [
    "## a word about environments and pip\n",
    "\n",
    "It is a very good habit to have your dev and app environment explicitly kept, version controlled, and re-producible. The commands that come handy are: `pip freeze > requirements.txt` and `pip install -r requirements.txt`. Whenever possible, setup git version control for your python project, use `pip freeze` to capture dependency list, so that others can quickly reproduce the deps by using the `requirements.txt` file.\n",
    "\n",
    "*N.B. this idea is not python specific, think about the `package.json` for node and `pom.xml` for Java*"
   ]
  }
 ],
 "metadata": {
  "kernelspec": {
   "display_name": "Python 3",
   "language": "python",
   "name": "python3"
  },
  "language_info": {
   "codemirror_mode": {
    "name": "ipython",
    "version": 3
   },
   "file_extension": ".py",
   "mimetype": "text/x-python",
   "name": "python",
   "nbconvert_exporter": "python",
   "pygments_lexer": "ipython3",
   "version": "3.5.1"
  }
 },
 "nbformat": 4,
 "nbformat_minor": 0
}
