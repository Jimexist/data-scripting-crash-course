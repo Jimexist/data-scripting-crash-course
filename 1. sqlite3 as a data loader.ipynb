{
 "cells": [
  {
   "cell_type": "markdown",
   "metadata": {},
   "source": [
    "# SQLite3 as a data loader\n",
    "\n",
    "Before everything else, you should go to SQLite3's [official page](https://www.sqlite.org/cli.html) and review the built-in commands - they will be, if not currently are, your great efficiency tool.\n",
    "\n",
    "Make sure you understand at least the following:\n",
    "\n",
    "- `.schema` and `.tables` for listing the database's metadata\n",
    "- `.mode` for altering output mode\n",
    "- `.header` for toggling header\n",
    "- `.output` for redirecting output (esp. the result from `SELECT`) to a file"
   ]
  },
  {
   "cell_type": "markdown",
   "metadata": {},
   "source": [
    "## loading csv file\n",
    "\n",
    "SQLite has a built-in function to load CSV data into a table.\n",
    "```sh\n",
    "sqlite3 <<EOF\n",
    ".mode csv\n",
    ".import \"./data/airports.csv\" airports\n",
    ".schema\n",
    "EOF\n",
    "```\n",
    "note the usage of `EOF` (i.e. [heredoc](https://en.wikipedia.org/wiki/Here_document)) as a handy way to pipe multiple lines of input into a process. The shell command above starts a `sqlite3` process which executes the commands.\n",
    "\n",
    "You should see the schema output as:\n",
    "```sql\n",
    "CREATE TABLE airports(\n",
    "  \"ICAO\" TEXT,\n",
    "  \"Code\" TEXT,\n",
    "  \"Name\" TEXT,\n",
    "  \"City\" TEXT,\n",
    "  \"Country Code\" TEXT,\n",
    "  \"Latitude\" TEXT,\n",
    "  \"Longitude\" TEXT,\n",
    "  \"Elevation\" TEXT,\n",
    "  \"Time Zone\" TEXT,\n",
    "  \"Region\" TEXT\n",
    ");\n",
    "```\n",
    "\n",
    "Note that the `.import` command automatically uses the first line of csv as the headers and use them to create table for you."
   ]
  }
 ],
 "metadata": {
  "kernelspec": {
   "display_name": "Python 3",
   "language": "python",
   "name": "python3"
  },
  "language_info": {
   "codemirror_mode": {
    "name": "ipython",
    "version": 3
   },
   "file_extension": ".py",
   "mimetype": "text/x-python",
   "name": "python",
   "nbconvert_exporter": "python",
   "pygments_lexer": "ipython3",
   "version": "3.5.1"
  }
 },
 "nbformat": 4,
 "nbformat_minor": 0
}
