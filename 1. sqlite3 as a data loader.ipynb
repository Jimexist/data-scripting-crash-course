{
 "cells": [
  {
   "cell_type": "markdown",
   "metadata": {},
   "source": [
    "# SQLite3 as a data loader\n",
    "\n",
    "Before everything else, you should go to SQLite3's [official page](https://www.sqlite.org/cli.html) and review the built-in commands - they will be, if not currently are, your great efficiency tool.\n",
    "\n",
    "Make sure you understand at least the following:\n",
    "\n",
    "- `.schema` and `.tables` for listing the database's metadata\n",
    "- `.mode` for altering output mode\n",
    "- `.header` for toggling header\n",
    "- `.output` for redirecting output (esp. the result from `SELECT`) to a file"
   ]
  },
  {
   "cell_type": "markdown",
   "metadata": {},
   "source": [
    "## loading csv file\n",
    "\n",
    "SQLite has a built-in function to load CSV data into a table.\n",
    "```sh\n",
    "sqlite3 <<EOF\n",
    ".mode csv\n",
    ".import \"./data/airports.csv\" airports\n",
    ".schema\n",
    "EOF\n",
    "```\n",
    "note the usage of `EOF` (i.e. [heredoc](https://en.wikipedia.org/wiki/Here_document)) as a handy way to pipe multiple lines of input into a process. The shell command above starts a `sqlite3` process which executes the commands.\n",
    "\n",
    "You should see the schema output as:\n",
    "```sql\n",
    "CREATE TABLE airports(\n",
    "  \"ICAO\" TEXT,\n",
    "  \"Code\" TEXT,\n",
    "  \"Name\" TEXT,\n",
    "  \"City\" TEXT,\n",
    "  \"Country Code\" TEXT,\n",
    "  \"Latitude\" TEXT,\n",
    "  \"Longitude\" TEXT,\n",
    "  \"Elevation\" TEXT,\n",
    "  \"Time Zone\" TEXT,\n",
    "  \"Region\" TEXT\n",
    ");\n",
    "```\n",
    "\n",
    "Note that when the `airports` table does not exist, the `.import` command automatically uses the first line of csv as the headers and use them to create table for you. Each column will be created using `TEXT` type.\n",
    "\n",
    "However `sqlite3` will behave differently when that `airports` table already exists in which case it will not use the first line as the header. You can utilize this to specify better types for the table. So you can update that script to be:\n",
    "\n",
    "```sh\n",
    "# this strips the header\n",
    "tail -n +2 data/airports.csv > data/airports_without_header.csv\n",
    "# now we load the data with table pre-created with proper types\n",
    "sqlite3 <<EOF\n",
    "CREATE TABLE airports(\n",
    "  \"ICAO\" TEXT primary key,\n",
    "  \"Code\" TEXT,\n",
    "  \"Name\" TEXT,\n",
    "  \"City\" TEXT,\n",
    "  \"Country Code\" TEXT,\n",
    "  \"Latitude\" numeric,\n",
    "  \"Longitude\" numeric,\n",
    "  \"Elevation\" int,\n",
    "  \"Time Zone\" TEXT,\n",
    "  \"Region\" TEXT\n",
    ");\n",
    ".mode csv\n",
    ".import \"./data/airports_without_header.csv\" airports\n",
    "select count(*) from airports;\n",
    "EOF\n",
    "```\n",
    "\n",
    "Now you have a table with primary key, proper numeric types and all the data."
   ]
  }
 ],
 "metadata": {
  "kernelspec": {
   "display_name": "Python 3",
   "language": "python",
   "name": "python3"
  },
  "language_info": {
   "codemirror_mode": {
    "name": "ipython",
    "version": 3
   },
   "file_extension": ".py",
   "mimetype": "text/x-python",
   "name": "python",
   "nbconvert_exporter": "python",
   "pygments_lexer": "ipython3",
   "version": "3.5.1"
  }
 },
 "nbformat": 4,
 "nbformat_minor": 0
}
