{
 "cells": [
  {
   "cell_type": "markdown",
   "metadata": {},
   "source": [
    "# SQLite3 as a data loader\n",
    "\n",
    "Before everything else, you should go to SQLite3's [official page](https://www.sqlite.org/cli.html) and review the built-in commands - they will be, if not currently are, your great efficiency tool.\n",
    "\n",
    "Make sure you understand at least the following:\n",
    "\n",
    "- `.schema` and `.tables` for listing the database's metadata\n",
    "- `.mode` for altering output mode\n",
    "- `.header` for toggling header\n",
    "- `.output` for redirecting output (esp. the result from `SELECT`) to a file"
   ]
  },
  {
   "cell_type": "markdown",
   "metadata": {},
   "source": [
    "## loading csv file\n",
    "\n",
    "SQLite has a built-in function to load CSV data into a table.\n",
    "```sh\n",
    "sqlite3 my_database.db <<EOF\n",
    ".mode csv\n",
    ".import \"./data/airports.csv\"\n",
    "EOF\n",
    "```\n",
    "note the usage of `EOF` (i.e. [heredoc](https://en.wikipedia.org/wiki/Here_document)) as a handy way to pipe multiple lines of input into a process. The shell command above starts a `sqlite3` process which saves data to `my_database.db` and takes two commands."
   ]
  }
 ],
 "metadata": {
  "kernelspec": {
   "display_name": "Python 3",
   "language": "python",
   "name": "python3"
  },
  "language_info": {
   "codemirror_mode": {
    "name": "ipython",
    "version": 3
   },
   "file_extension": ".py",
   "mimetype": "text/x-python",
   "name": "python",
   "nbconvert_exporter": "python",
   "pygments_lexer": "ipython3",
   "version": "3.5.1"
  }
 },
 "nbformat": 4,
 "nbformat_minor": 0
}
