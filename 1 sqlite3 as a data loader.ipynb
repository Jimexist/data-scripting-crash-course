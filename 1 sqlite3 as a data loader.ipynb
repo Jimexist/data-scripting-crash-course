{
 "cells": [
  {
   "cell_type": "markdown",
   "metadata": {},
   "source": [
    "# SQLite3 as a data loader\n",
    "\n",
    "Before everything else, you should go to SQLite3's [official page](https://www.sqlite.org/cli.html) and review the built-in commands - they will be, if not currently are, your great efficiency tool.\n",
    "\n",
    "Make sure you understand at least the following:"
   ]
  }
 ],
 "metadata": {
  "kernelspec": {
   "display_name": "Python 3",
   "language": "python",
   "name": "python3"
  },
  "language_info": {
   "codemirror_mode": {
    "name": "ipython",
    "version": 3
   },
   "file_extension": ".py",
   "mimetype": "text/x-python",
   "name": "python",
   "nbconvert_exporter": "python",
   "pygments_lexer": "ipython3",
   "version": "3.5.1"
  }
 },
 "nbformat": 4,
 "nbformat_minor": 0
}
